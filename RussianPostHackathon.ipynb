{
  "nbformat": 4,
  "nbformat_minor": 0,
  "metadata": {
    "colab": {
      "provenance": [],
      "authorship_tag": "ABX9TyPJTJMhaNj5LQNZSCLID6YV",
      "include_colab_link": true
    },
    "kernelspec": {
      "name": "python3",
      "display_name": "Python 3"
    },
    "language_info": {
      "name": "python"
    }
  },
  "cells": [
    {
      "cell_type": "markdown",
      "metadata": {
        "id": "view-in-github",
        "colab_type": "text"
      },
      "source": [
        "<a href=\"https://colab.research.google.com/github/SeeeRGo/ml-experiments/blob/main/RussianPostHackathon.ipynb\" target=\"_parent\"><img src=\"https://colab.research.google.com/assets/colab-badge.svg\" alt=\"Open In Colab\"/></a>"
      ]
    },
    {
      "cell_type": "markdown",
      "source": [
        "### Import training data set"
      ],
      "metadata": {
        "id": "vJPkq2oJhU5L"
      }
    },
    {
      "cell_type": "code",
      "source": [
        "import torch\n",
        "from torch import nn\n",
        "import pandas as pd\n",
        "from google.colab import auth\n",
        "from googleapiclient.discovery import build\n",
        "\n",
        "import io\n",
        "from googleapiclient.http import MediaIoBaseDownload"
      ],
      "metadata": {
        "id": "GJSKjglNiRdj"
      },
      "execution_count": 1,
      "outputs": []
    },
    {
      "cell_type": "code",
      "source": [
        "auth.authenticate_user()\n",
        "drive_service = build('drive', 'v3')\n"
      ],
      "metadata": {
        "id": "aMr8IYgNjWOT"
      },
      "execution_count": 2,
      "outputs": []
    },
    {
      "cell_type": "code",
      "source": [
        "request = drive_service.files().get_media(fileId='1Cu_Su0BpJeLzInuF2M5wnsy9Pu9hxXi8')\n",
        "downloaded = io.BytesIO()\n",
        "downloader = MediaIoBaseDownload(downloaded, request)\n",
        "done = False\n",
        "while done is False:\n",
        "  # _ is a placeholder for a progress object that we ignore.\n",
        "  # (Our file is small, so we skip reporting progress.)\n",
        "  _, done = downloader.next_chunk()\n",
        "\n",
        "downloaded.seek(0)\n",
        "print('Downloaded file contents are: {}')\n",
        "train_dataframe = pd.read_csv(downloaded)\n",
        "train_dataframe.head()"
      ],
      "metadata": {
        "colab": {
          "base_uri": "https://localhost:8080/",
          "height": 388
        },
        "id": "DjULPAnNpf4p",
        "outputId": "d232d9ab-c3aa-4660-dc1b-df044a3400c7"
      },
      "execution_count": 3,
      "outputs": [
        {
          "output_type": "stream",
          "name": "stdout",
          "text": [
            "Downloaded file contents are: {}\n"
          ]
        },
        {
          "output_type": "stream",
          "name": "stderr",
          "text": [
            "/usr/local/lib/python3.7/dist-packages/IPython/core/interactiveshell.py:3326: DtypeWarning: Columns (2) have mixed types.Specify dtype option on import or set low_memory=False.\n",
            "  exec(code_obj, self.user_global_ns, self.user_ns)\n"
          ]
        },
        {
          "output_type": "execute_result",
          "data": {
            "text/plain": [
              "        id oper_type + oper_attr index_oper     type  priority  \\\n",
              "0  6818780               1043_-1   628629.0  Участок    7503.0   \n",
              "1  9907176               1023_-1   102976.0     ММПО    7503.0   \n",
              "2  3304275               1018_-1   620962.0      Цех    7503.0   \n",
              "3  9020937               1019_-1   344964.0      Цех    7503.0   \n",
              "4  3082311               1020_-1   629819.0  Участок    7503.0   \n",
              "\n",
              "  is_privatecategory  class is_in_yandex is_return  weight  ...  \\\n",
              "0                  N    0.0            Y         N    87.0  ...   \n",
              "1                  N    0.0            N         N   107.0  ...   \n",
              "2                  N    0.0            Y         N    50.0  ...   \n",
              "3                  N    0.0            Y         N   416.0  ...   \n",
              "4                  N    0.0            Y         N   795.0  ...   \n",
              "\n",
              "   dist_qty_oper_login_1  total_qty_oper_login_1  total_qty_oper_login_0  \\\n",
              "0                   42.0                720176.0                 58950.0   \n",
              "1                  914.0              48856658.0              83318932.0   \n",
              "2                   62.0               3246292.0               3233068.0   \n",
              "3                   55.0               2060928.0                653280.0   \n",
              "4                   16.0                316919.0                 27911.0   \n",
              "\n",
              "   total_qty_over_index_and_type  total_qty_over_index  is_wrong_sndr_name  \\\n",
              "0                       779126.0             8290896.0                   0   \n",
              "1                    132175590.0           136819803.0                   0   \n",
              "2                      6479360.0            52708071.0                   0   \n",
              "3                      2714208.0            19562334.0                   0   \n",
              "4                       344830.0             4719186.0                   0   \n",
              "\n",
              "  is_wrong_rcpn_name  is_wrong_phone_number  is_wrong_address  label  \n",
              "0                  0                      0                 0      0  \n",
              "1                  0                      0                 0      0  \n",
              "2                  1                      0                 0      0  \n",
              "3                  0                      0                 0      0  \n",
              "4                  0                      0                 0      0  \n",
              "\n",
              "[5 rows x 29 columns]"
            ],
            "text/html": [
              "\n",
              "  <div id=\"df-fe4717f0-6c1a-4173-8983-e2645669ce19\">\n",
              "    <div class=\"colab-df-container\">\n",
              "      <div>\n",
              "<style scoped>\n",
              "    .dataframe tbody tr th:only-of-type {\n",
              "        vertical-align: middle;\n",
              "    }\n",
              "\n",
              "    .dataframe tbody tr th {\n",
              "        vertical-align: top;\n",
              "    }\n",
              "\n",
              "    .dataframe thead th {\n",
              "        text-align: right;\n",
              "    }\n",
              "</style>\n",
              "<table border=\"1\" class=\"dataframe\">\n",
              "  <thead>\n",
              "    <tr style=\"text-align: right;\">\n",
              "      <th></th>\n",
              "      <th>id</th>\n",
              "      <th>oper_type + oper_attr</th>\n",
              "      <th>index_oper</th>\n",
              "      <th>type</th>\n",
              "      <th>priority</th>\n",
              "      <th>is_privatecategory</th>\n",
              "      <th>class</th>\n",
              "      <th>is_in_yandex</th>\n",
              "      <th>is_return</th>\n",
              "      <th>weight</th>\n",
              "      <th>...</th>\n",
              "      <th>dist_qty_oper_login_1</th>\n",
              "      <th>total_qty_oper_login_1</th>\n",
              "      <th>total_qty_oper_login_0</th>\n",
              "      <th>total_qty_over_index_and_type</th>\n",
              "      <th>total_qty_over_index</th>\n",
              "      <th>is_wrong_sndr_name</th>\n",
              "      <th>is_wrong_rcpn_name</th>\n",
              "      <th>is_wrong_phone_number</th>\n",
              "      <th>is_wrong_address</th>\n",
              "      <th>label</th>\n",
              "    </tr>\n",
              "  </thead>\n",
              "  <tbody>\n",
              "    <tr>\n",
              "      <th>0</th>\n",
              "      <td>6818780</td>\n",
              "      <td>1043_-1</td>\n",
              "      <td>628629.0</td>\n",
              "      <td>Участок</td>\n",
              "      <td>7503.0</td>\n",
              "      <td>N</td>\n",
              "      <td>0.0</td>\n",
              "      <td>Y</td>\n",
              "      <td>N</td>\n",
              "      <td>87.0</td>\n",
              "      <td>...</td>\n",
              "      <td>42.0</td>\n",
              "      <td>720176.0</td>\n",
              "      <td>58950.0</td>\n",
              "      <td>779126.0</td>\n",
              "      <td>8290896.0</td>\n",
              "      <td>0</td>\n",
              "      <td>0</td>\n",
              "      <td>0</td>\n",
              "      <td>0</td>\n",
              "      <td>0</td>\n",
              "    </tr>\n",
              "    <tr>\n",
              "      <th>1</th>\n",
              "      <td>9907176</td>\n",
              "      <td>1023_-1</td>\n",
              "      <td>102976.0</td>\n",
              "      <td>ММПО</td>\n",
              "      <td>7503.0</td>\n",
              "      <td>N</td>\n",
              "      <td>0.0</td>\n",
              "      <td>N</td>\n",
              "      <td>N</td>\n",
              "      <td>107.0</td>\n",
              "      <td>...</td>\n",
              "      <td>914.0</td>\n",
              "      <td>48856658.0</td>\n",
              "      <td>83318932.0</td>\n",
              "      <td>132175590.0</td>\n",
              "      <td>136819803.0</td>\n",
              "      <td>0</td>\n",
              "      <td>0</td>\n",
              "      <td>0</td>\n",
              "      <td>0</td>\n",
              "      <td>0</td>\n",
              "    </tr>\n",
              "    <tr>\n",
              "      <th>2</th>\n",
              "      <td>3304275</td>\n",
              "      <td>1018_-1</td>\n",
              "      <td>620962.0</td>\n",
              "      <td>Цех</td>\n",
              "      <td>7503.0</td>\n",
              "      <td>N</td>\n",
              "      <td>0.0</td>\n",
              "      <td>Y</td>\n",
              "      <td>N</td>\n",
              "      <td>50.0</td>\n",
              "      <td>...</td>\n",
              "      <td>62.0</td>\n",
              "      <td>3246292.0</td>\n",
              "      <td>3233068.0</td>\n",
              "      <td>6479360.0</td>\n",
              "      <td>52708071.0</td>\n",
              "      <td>0</td>\n",
              "      <td>1</td>\n",
              "      <td>0</td>\n",
              "      <td>0</td>\n",
              "      <td>0</td>\n",
              "    </tr>\n",
              "    <tr>\n",
              "      <th>3</th>\n",
              "      <td>9020937</td>\n",
              "      <td>1019_-1</td>\n",
              "      <td>344964.0</td>\n",
              "      <td>Цех</td>\n",
              "      <td>7503.0</td>\n",
              "      <td>N</td>\n",
              "      <td>0.0</td>\n",
              "      <td>Y</td>\n",
              "      <td>N</td>\n",
              "      <td>416.0</td>\n",
              "      <td>...</td>\n",
              "      <td>55.0</td>\n",
              "      <td>2060928.0</td>\n",
              "      <td>653280.0</td>\n",
              "      <td>2714208.0</td>\n",
              "      <td>19562334.0</td>\n",
              "      <td>0</td>\n",
              "      <td>0</td>\n",
              "      <td>0</td>\n",
              "      <td>0</td>\n",
              "      <td>0</td>\n",
              "    </tr>\n",
              "    <tr>\n",
              "      <th>4</th>\n",
              "      <td>3082311</td>\n",
              "      <td>1020_-1</td>\n",
              "      <td>629819.0</td>\n",
              "      <td>Участок</td>\n",
              "      <td>7503.0</td>\n",
              "      <td>N</td>\n",
              "      <td>0.0</td>\n",
              "      <td>Y</td>\n",
              "      <td>N</td>\n",
              "      <td>795.0</td>\n",
              "      <td>...</td>\n",
              "      <td>16.0</td>\n",
              "      <td>316919.0</td>\n",
              "      <td>27911.0</td>\n",
              "      <td>344830.0</td>\n",
              "      <td>4719186.0</td>\n",
              "      <td>0</td>\n",
              "      <td>0</td>\n",
              "      <td>0</td>\n",
              "      <td>0</td>\n",
              "      <td>0</td>\n",
              "    </tr>\n",
              "  </tbody>\n",
              "</table>\n",
              "<p>5 rows × 29 columns</p>\n",
              "</div>\n",
              "      <button class=\"colab-df-convert\" onclick=\"convertToInteractive('df-fe4717f0-6c1a-4173-8983-e2645669ce19')\"\n",
              "              title=\"Convert this dataframe to an interactive table.\"\n",
              "              style=\"display:none;\">\n",
              "        \n",
              "  <svg xmlns=\"http://www.w3.org/2000/svg\" height=\"24px\"viewBox=\"0 0 24 24\"\n",
              "       width=\"24px\">\n",
              "    <path d=\"M0 0h24v24H0V0z\" fill=\"none\"/>\n",
              "    <path d=\"M18.56 5.44l.94 2.06.94-2.06 2.06-.94-2.06-.94-.94-2.06-.94 2.06-2.06.94zm-11 1L8.5 8.5l.94-2.06 2.06-.94-2.06-.94L8.5 2.5l-.94 2.06-2.06.94zm10 10l.94 2.06.94-2.06 2.06-.94-2.06-.94-.94-2.06-.94 2.06-2.06.94z\"/><path d=\"M17.41 7.96l-1.37-1.37c-.4-.4-.92-.59-1.43-.59-.52 0-1.04.2-1.43.59L10.3 9.45l-7.72 7.72c-.78.78-.78 2.05 0 2.83L4 21.41c.39.39.9.59 1.41.59.51 0 1.02-.2 1.41-.59l7.78-7.78 2.81-2.81c.8-.78.8-2.07 0-2.86zM5.41 20L4 18.59l7.72-7.72 1.47 1.35L5.41 20z\"/>\n",
              "  </svg>\n",
              "      </button>\n",
              "      \n",
              "  <style>\n",
              "    .colab-df-container {\n",
              "      display:flex;\n",
              "      flex-wrap:wrap;\n",
              "      gap: 12px;\n",
              "    }\n",
              "\n",
              "    .colab-df-convert {\n",
              "      background-color: #E8F0FE;\n",
              "      border: none;\n",
              "      border-radius: 50%;\n",
              "      cursor: pointer;\n",
              "      display: none;\n",
              "      fill: #1967D2;\n",
              "      height: 32px;\n",
              "      padding: 0 0 0 0;\n",
              "      width: 32px;\n",
              "    }\n",
              "\n",
              "    .colab-df-convert:hover {\n",
              "      background-color: #E2EBFA;\n",
              "      box-shadow: 0px 1px 2px rgba(60, 64, 67, 0.3), 0px 1px 3px 1px rgba(60, 64, 67, 0.15);\n",
              "      fill: #174EA6;\n",
              "    }\n",
              "\n",
              "    [theme=dark] .colab-df-convert {\n",
              "      background-color: #3B4455;\n",
              "      fill: #D2E3FC;\n",
              "    }\n",
              "\n",
              "    [theme=dark] .colab-df-convert:hover {\n",
              "      background-color: #434B5C;\n",
              "      box-shadow: 0px 1px 3px 1px rgba(0, 0, 0, 0.15);\n",
              "      filter: drop-shadow(0px 1px 2px rgba(0, 0, 0, 0.3));\n",
              "      fill: #FFFFFF;\n",
              "    }\n",
              "  </style>\n",
              "\n",
              "      <script>\n",
              "        const buttonEl =\n",
              "          document.querySelector('#df-fe4717f0-6c1a-4173-8983-e2645669ce19 button.colab-df-convert');\n",
              "        buttonEl.style.display =\n",
              "          google.colab.kernel.accessAllowed ? 'block' : 'none';\n",
              "\n",
              "        async function convertToInteractive(key) {\n",
              "          const element = document.querySelector('#df-fe4717f0-6c1a-4173-8983-e2645669ce19');\n",
              "          const dataTable =\n",
              "            await google.colab.kernel.invokeFunction('convertToInteractive',\n",
              "                                                     [key], {});\n",
              "          if (!dataTable) return;\n",
              "\n",
              "          const docLinkHtml = 'Like what you see? Visit the ' +\n",
              "            '<a target=\"_blank\" href=https://colab.research.google.com/notebooks/data_table.ipynb>data table notebook</a>'\n",
              "            + ' to learn more about interactive tables.';\n",
              "          element.innerHTML = '';\n",
              "          dataTable['output_type'] = 'display_data';\n",
              "          await google.colab.output.renderOutput(dataTable, element);\n",
              "          const docLink = document.createElement('div');\n",
              "          docLink.innerHTML = docLinkHtml;\n",
              "          element.appendChild(docLink);\n",
              "        }\n",
              "      </script>\n",
              "    </div>\n",
              "  </div>\n",
              "  "
            ]
          },
          "metadata": {},
          "execution_count": 3
        }
      ]
    },
    {
      "cell_type": "code",
      "source": [
        "train_dataframe.columns"
      ],
      "metadata": {
        "colab": {
          "base_uri": "https://localhost:8080/"
        },
        "id": "S4eVK8jL5Ciz",
        "outputId": "f4cc7774-cdfe-4cd3-bb2d-7acf2bb3a026"
      },
      "execution_count": 4,
      "outputs": [
        {
          "output_type": "execute_result",
          "data": {
            "text/plain": [
              "Index(['id', 'oper_type + oper_attr', 'index_oper', 'type', 'priority',\n",
              "       'is_privatecategory', 'class', 'is_in_yandex', 'is_return', 'weight',\n",
              "       'mailtype', 'mailctg', 'mailrank', 'directctg', 'transport_pay',\n",
              "       'postmark', 'name_mfi', 'weight_mfi', 'price_mfi',\n",
              "       'dist_qty_oper_login_1', 'total_qty_oper_login_1',\n",
              "       'total_qty_oper_login_0', 'total_qty_over_index_and_type',\n",
              "       'total_qty_over_index', 'is_wrong_sndr_name', 'is_wrong_rcpn_name',\n",
              "       'is_wrong_phone_number', 'is_wrong_address', 'label'],\n",
              "      dtype='object')"
            ]
          },
          "metadata": {},
          "execution_count": 4
        }
      ]
    },
    {
      "cell_type": "code",
      "source": [
        "only_numbers = train_dataframe[[\"weight\", \"transport_pay\"]]\n",
        "labels = train_dataframe[\"label\"]\n",
        "X = torch.tensor(only_numbers.values).type(torch.float)\n",
        "y = torch.tensor(labels.values).type(torch.float)\n",
        "X.shape, y.shape"
      ],
      "metadata": {
        "colab": {
          "base_uri": "https://localhost:8080/"
        },
        "id": "NXFmqmYh9oZz",
        "outputId": "a89a7334-b7f4-4069-dd36-6858bc511db8"
      },
      "execution_count": 5,
      "outputs": [
        {
          "output_type": "execute_result",
          "data": {
            "text/plain": [
              "(torch.Size([6000000, 2]), torch.Size([6000000]))"
            ]
          },
          "metadata": {},
          "execution_count": 5
        }
      ]
    },
    {
      "cell_type": "markdown",
      "source": [
        "### Make a split on training, validation and test data\n",
        "\n",
        "I think 70/15/15 would be good enough"
      ],
      "metadata": {
        "id": "8oeCsdq5hijF"
      }
    },
    {
      "cell_type": "code",
      "source": [
        "from sklearn.model_selection import train_test_split\n",
        "\n",
        "X_train, X_test, y_train, y_test = train_test_split(X, y,\n",
        "    test_size=0.3, shuffle = True, random_state = 42)\n",
        "\n",
        "# Use the same function above for the validation set\n",
        "X_test, X_val, y_test, y_val = train_test_split(X_test, y_test, \n",
        "    test_size=0.5, random_state= 8) # 0.5 x 0.3 = 0.15\n",
        "\n",
        "\n",
        "print(\"X_train shape: {}\".format(X_train.shape))\n",
        "print(\"X_test shape: {}\".format(X_test.shape))\n",
        "print(\"y_train shape: {}\".format(y_train.shape))\n",
        "print(\"y_test shape: {}\".format(y_test.shape))\n",
        "print(\"X_val shape: {}\".format(X_val.shape))\n",
        "print(\"y val shape: {}\".format(y_val.shape))"
      ],
      "metadata": {
        "colab": {
          "base_uri": "https://localhost:8080/"
        },
        "id": "dv-DrBXW_t6i",
        "outputId": "00ea6d2c-feb6-4c67-e943-987267099285"
      },
      "execution_count": 6,
      "outputs": [
        {
          "output_type": "stream",
          "name": "stdout",
          "text": [
            "X_train shape: torch.Size([4200000, 2])\n",
            "X_test shape: torch.Size([900000, 2])\n",
            "y_train shape: torch.Size([4200000])\n",
            "y_test shape: torch.Size([900000])\n",
            "X_val shape: torch.Size([900000, 2])\n",
            "y val shape: torch.Size([900000])\n"
          ]
        }
      ]
    },
    {
      "cell_type": "code",
      "source": [
        "# Building trainig loop\n",
        "from sklearn import metrics\n",
        "model = nn.Sequential(nn.Linear(in_features=2, out_features=32),\n",
        "                      nn.ReLU(),\n",
        "                      nn.Linear(in_features=32, out_features=32),\n",
        "                      nn.ReLU(),\n",
        "                      nn.Linear(in_features=32, out_features=1))\n",
        "\n",
        "loss_fn = nn.BCEWithLogitsLoss()\n",
        "optimizer = torch.optim.SGD(params=model.parameters(),\n",
        "                            lr=0.05)\n",
        "epochs = 100\n",
        "\n",
        "model.train()\n",
        "for epoch in range(epochs):\n",
        "  y_logits = model(X_train).squeeze()\n",
        "\n",
        "  y_preds = torch.sigmoid(y_logits)\n",
        "\n",
        "  y_preds = torch.round(y_preds)\n",
        "  # print(f\"Y_PREDS {y_preds[:5]}\")\n",
        "\n",
        "  loss = loss_fn(y_logits, y_train)\n",
        "  auc_roc = metrics.roc_auc_score(y_train.detach().numpy(), y_preds.detach().numpy())\n",
        "\n",
        "  # accuracy = accuracy_fn(y_true=y_train, y_pred=y_preds)\n",
        "\n",
        "  optimizer.zero_grad()\n",
        "\n",
        "  loss.backward()\n",
        "\n",
        "  optimizer.step()\n",
        "\n",
        "  model.eval()\n",
        "  with torch.inference_mode():\n",
        "    # 1. Forward pass\n",
        "    # test_logits = model(X_test).squeeze()\n",
        "    # test_pred = torch.round(torch.sigmoid(test_logits))\n",
        "\n",
        "    # # test_pred = torch.sigmoid(test_pred)\n",
        "\n",
        "    # # test_pred = torch.round(test_pred)\n",
        "\n",
        "    # # 2. Calculate the loss\n",
        "    # test_loss = loss_fn(test_pred.squeeze(), y_test)\n",
        "    # test_accuracy = accuracy_fn(y_true=y_test, y_pred=test_pred)\n",
        "    y_val_logits = model(X_val).squeeze()\n",
        "\n",
        "    y_val_preds = torch.round(torch.sigmoid(y_val_logits))\n",
        "\n",
        "    val_loss = loss_fn(y_val_logits, y_val)\n",
        "\n",
        "    val_auc_roc = metrics.roc_auc_score(y_val.detach().numpy(), y_val_preds.detach().numpy())\n",
        "\n",
        "    # epochs_count.append(epoch)\n",
        "    # loss_values.append(loss)\n",
        "    # test_loss_values.append(test_loss)\n",
        "    # if epoch % 15 == 0:\n",
        "    #   print(f\"Epoch: {epoch} | Loss: {loss} | Test loss: {test_loss} | Accuracy: {accuracy} | Test Accuracy: {test_accuracy}\")\n",
        "    if epoch % 10 == 0:\n",
        "      print(f\"Epoch: {epoch} | Loss: {loss} | AUC: {auc_roc} | Validation Loss: {val_loss} | Validation AUC: {val_auc_roc}\")\n",
        "\n",
        "\n"
      ],
      "metadata": {
        "colab": {
          "base_uri": "https://localhost:8080/"
        },
        "id": "uFkXZu1nro4J",
        "outputId": "b0ad1d02-4551-45ee-d4d6-c67b858d33d7"
      },
      "execution_count": 8,
      "outputs": [
        {
          "output_type": "stream",
          "name": "stdout",
          "text": [
            "Epoch: 0 | Loss: 5.723521709442139 | AUC: 0.5 | Validation Loss: 87.64808654785156 | Validation AUC: 0.5\n",
            "Epoch: 10 | Loss: 0.2241925448179245 | AUC: 0.5 | Validation Loss: 0.22081729769706726 | Validation AUC: 0.5\n",
            "Epoch: 20 | Loss: 0.1917504221200943 | AUC: 0.5 | Validation Loss: 0.18749722838401794 | Validation AUC: 0.5\n",
            "Epoch: 30 | Loss: 0.16921499371528625 | AUC: 0.5 | Validation Loss: 0.16794846951961517 | Validation AUC: 0.5\n",
            "Epoch: 40 | Loss: 0.15777277946472168 | AUC: 0.5 | Validation Loss: 0.15742290019989014 | Validation AUC: 0.5\n",
            "Epoch: 50 | Loss: 0.1512572318315506 | AUC: 0.5 | Validation Loss: 0.15119026601314545 | Validation AUC: 0.5\n",
            "Epoch: 60 | Loss: 0.14657479524612427 | AUC: 0.5 | Validation Loss: 0.14664632081985474 | Validation AUC: 0.5\n",
            "Epoch: 70 | Loss: 0.14300279319286346 | AUC: 0.5 | Validation Loss: 0.14317788183689117 | Validation AUC: 0.5\n",
            "Epoch: 80 | Loss: 0.13993880152702332 | AUC: 0.5 | Validation Loss: 0.14010067284107208 | Validation AUC: 0.5\n",
            "Epoch: 90 | Loss: 0.13731776177883148 | AUC: 0.5 | Validation Loss: 0.1375216543674469 | Validation AUC: 0.5\n"
          ]
        }
      ]
    },
    {
      "cell_type": "code",
      "source": [
        "model.state_dict()"
      ],
      "metadata": {
        "id": "PXYyPxvD0V2g"
      },
      "execution_count": null,
      "outputs": []
    }
  ]
}