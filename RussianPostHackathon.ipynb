{
  "nbformat": 4,
  "nbformat_minor": 0,
  "metadata": {
    "colab": {
      "provenance": [],
      "authorship_tag": "ABX9TyPonpIPln/m1QDMgmnGuYW7",
      "include_colab_link": true
    },
    "kernelspec": {
      "name": "python3",
      "display_name": "Python 3"
    },
    "language_info": {
      "name": "python"
    }
  },
  "cells": [
    {
      "cell_type": "markdown",
      "metadata": {
        "id": "view-in-github",
        "colab_type": "text"
      },
      "source": [
        "<a href=\"https://colab.research.google.com/github/SeeeRGo/ml-experiments/blob/main/RussianPostHackathon.ipynb\" target=\"_parent\"><img src=\"https://colab.research.google.com/assets/colab-badge.svg\" alt=\"Open In Colab\"/></a>"
      ]
    },
    {
      "cell_type": "markdown",
      "source": [
        "### Import training data set"
      ],
      "metadata": {
        "id": "vJPkq2oJhU5L"
      }
    },
    {
      "cell_type": "code",
      "source": [
        "import torch\n",
        "import pandas as pd\n"
      ],
      "metadata": {
        "id": "GJSKjglNiRdj"
      },
      "execution_count": null,
      "outputs": []
    },
    {
      "cell_type": "code",
      "source": [
        "url = 'https://drive.google.com/file/d/1Cu_Su0BpJeLzInuF2M5wnsy9Pu9hxXi8/view?usp=sharing'\n",
        "train_dataframe = pd.read_csv(url)"
      ],
      "metadata": {
        "id": "aMr8IYgNjWOT"
      },
      "execution_count": null,
      "outputs": []
    },
    {
      "cell_type": "markdown",
      "source": [
        "### Make a split on training, validation and test data\n",
        "\n",
        "I think 70/15/15 would be good enough"
      ],
      "metadata": {
        "id": "8oeCsdq5hijF"
      }
    },
    {
      "cell_type": "markdown",
      "source": [
        "### Plot raw data"
      ],
      "metadata": {
        "id": "kyCJxXuOh6fA"
      }
    },
    {
      "cell_type": "markdown",
      "source": [
        "### Plot resulting metrics"
      ],
      "metadata": {
        "id": "B10l_yNqiKj9"
      }
    },
    {
      "cell_type": "code",
      "execution_count": null,
      "metadata": {
        "id": "C2yn74tvhN_B"
      },
      "outputs": [],
      "source": []
    }
  ]
}